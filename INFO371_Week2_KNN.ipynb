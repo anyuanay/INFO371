{
  "nbformat": 4,
  "nbformat_minor": 0,
  "metadata": {
    "kernelspec": {
      "display_name": "Python 3",
      "language": "python",
      "name": "python3"
    },
    "language_info": {
      "codemirror_mode": {
        "name": "ipython",
        "version": 3
      },
      "file_extension": ".py",
      "mimetype": "text/x-python",
      "name": "python",
      "nbconvert_exporter": "python",
      "pygments_lexer": "ipython3",
      "version": "3.6.3"
    },
    "colab": {
      "provenance": [],
      "include_colab_link": true
    }
  },
  "cells": [
    {
      "cell_type": "markdown",
      "metadata": {
        "id": "view-in-github",
        "colab_type": "text"
      },
      "source": [
        "<a href=\"https://colab.research.google.com/github/anyuanay/INFO371/blob/main/INFO371_Week2_KNN.ipynb\" target=\"_parent\"><img src=\"https://colab.research.google.com/assets/colab-badge.svg\" alt=\"Open In Colab\"/></a>"
      ]
    },
    {
      "cell_type": "markdown",
      "metadata": {
        "id": "p0Z6sbR8Oo5l"
      },
      "source": [
        "# INFO 371: Data Mining Applications\n",
        "\n",
        "## Week 2: KNN and Scikit-Learn\n",
        "### Prof. Y. An, PhD\n",
        "### College of Computing and Informatics, Drexel University"
      ]
    },
    {
      "cell_type": "markdown",
      "metadata": {
        "id": "ZbPTm3cXOo5n"
      },
      "source": [
        "## Introduction\n"
      ]
    },
    {
      "cell_type": "markdown",
      "metadata": {
        "id": "30wUkYEpOo5o"
      },
      "source": [
        "The package `sklearn.neighbors` provides functionality for unsupervised and supervised neighbors-based learning methods. Despite its simplicity, nearest neighbors has been successful in a large number of classification and regression problems, including handwritten digits or satellite image scenes. Being a non-parametric and instance-based method, it is often successful in classification situations where the decision boundary is very irregular.\n",
        "\n",
        "scikit-learn implements two different nearest neighbors classifiers: KNeighborsClassifier implements learning based on the k nearest neighbors of each query point, where k is an integer value specified by the user. RadiusNeighborsClassifier implements learning based on the number of neighbors within a fixed radius r of each training point, where r is a floating-point value specified by the user.\n",
        "\n",
        "The k-neighbors classification in KNeighborsClassifier is the more commonly used of the two techniques. The optimal choice of the value k is highly data-dependent: in general a larger k suppresses the effects of noise, but makes the classification boundaries less distinct.\n",
        "\n",
        "The basic nearest neighbors classification uses uniform weights: that is, the value assigned to a query point is computed from a simple majority vote of the nearest neighbors. Under some circumstances, it is better to weight the neighbors such that nearer neighbors contribute more to the fit. This can be accomplished through the weights keyword. The default value, weights = 'uniform', assigns uniform weights to each neighbor. weights = 'distance' assigns weights proportional to the inverse of the distance from the query point. Alternatively, a user-defined function of the distance can be supplied which is used to compute the weights."
      ]
    },
    {
      "cell_type": "markdown",
      "metadata": {
        "id": "Lm2wZ5q-Oo5p"
      },
      "source": [
        "## A Smaller Iris Flower Data Set\n",
        "We extracted a smaller set of the Iris Flower Data Set with only two features and 40 instances. the Species column is kept for flower labels.\n",
        "\n",
        "The columns in this dataset are:\n",
        "\n",
        "* SepalLength\n",
        "* SepalWidth\n",
        "* Species"
      ]
    },
    {
      "cell_type": "markdown",
      "metadata": {
        "id": "S9y6bMuPOo5q"
      },
      "source": [
        "### Load the data"
      ]
    },
    {
      "cell_type": "markdown",
      "metadata": {
        "id": "VOLc5aFnOo5s"
      },
      "source": [
        "```\n",
        "import numpy as np\n",
        "import pandas as pd\n",
        "import matplotlib.pyplot as plt\n",
        "from matplotlib.colors import ListedColormap\n",
        "from sklearn import neighbors\n",
        "\n",
        "%matplotlib inline\n",
        "```"
      ]
    },
    {
      "cell_type": "code",
      "metadata": {
        "id": "HDjjFLDFOo5t"
      },
      "source": [
        "import numpy as np\n",
        "import pandas as pd\n",
        "import matplotlib.pyplot as plt\n",
        "from google.colab import files"
      ],
      "execution_count": null,
      "outputs": []
    },
    {
      "cell_type": "code",
      "metadata": {
        "id": "7kwoihUzOo57",
        "colab": {
          "resources": {
            "http://localhost:8080/nbextensions/google.colab/files.js": {
              "data": "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",
              "ok": true,
              "headers": [
                [
                  "content-type",
                  "application/javascript"
                ]
              ],
              "status": 200,
              "status_text": ""
            }
          },
          "base_uri": "https://localhost:8080/",
          "height": 110
        },
        "outputId": "f7e3c7b6-14af-49d9-bf43-05c6ee4cd097"
      },
      "source": [
        "files.upload()"
      ],
      "execution_count": null,
      "outputs": [
        {
          "output_type": "display_data",
          "data": {
            "text/html": [
              "\n",
              "     <input type=\"file\" id=\"files-e24b177a-5780-426f-9691-314d60c0303f\" name=\"files[]\" multiple disabled\n",
              "        style=\"border:none\" />\n",
              "     <output id=\"result-e24b177a-5780-426f-9691-314d60c0303f\">\n",
              "      Upload widget is only available when the cell has been executed in the\n",
              "      current browser session. Please rerun this cell to enable.\n",
              "      </output>\n",
              "      <script src=\"/nbextensions/google.colab/files.js\"></script> "
            ],
            "text/plain": [
              "<IPython.core.display.HTML object>"
            ]
          },
          "metadata": {}
        },
        {
          "output_type": "stream",
          "name": "stdout",
          "text": [
            "Saving iris_smaller.csv to iris_smaller.csv\n"
          ]
        },
        {
          "output_type": "execute_result",
          "data": {
            "text/plain": [
              "{'iris_smaller.csv': b'sepal_length,sepal_width,species\\n5.4,3.4,setosa\\n5.1,3.7,setosa\\n4.6,3.6,setosa\\n5.1,3.3,setosa\\n4.8,3.4,setosa\\n5.0,3.0,setosa\\n5.0,3.4,setosa\\n5.2,3.5,setosa\\n5.2,3.4,setosa\\n4.7,3.2,setosa\\n4.8,3.1,setosa\\n5.4,3.4,setosa\\n5.2,4.1,setosa\\n5.5,4.2,setosa\\n4.9,3.1,setosa\\n5.0,3.2,setosa\\n5.5,3.5,setosa\\n4.9,3.1,setosa\\n4.4,3.0,setosa\\n5.1,3.4,setosa\\n7.0,3.2,versicolor\\n6.4,3.2,versicolor\\n6.9,3.1,versicolor\\n5.5,2.3,versicolor\\n6.5,2.8,versicolor\\n5.7,2.8,versicolor\\n6.3,3.3,versicolor\\n4.9,2.4,versicolor\\n6.6,2.9,versicolor\\n5.2,2.7,versicolor\\n5.0,2.0,versicolor\\n5.9,3.0,versicolor\\n6.0,2.2,versicolor\\n6.1,2.9,versicolor\\n5.6,2.9,versicolor\\n6.7,3.1,versicolor\\n5.6,3.0,versicolor\\n5.8,2.7,versicolor\\n6.2,2.2,versicolor\\n5.6,2.5,versicolor\\n'}"
            ]
          },
          "metadata": {},
          "execution_count": 2
        }
      ]
    },
    {
      "cell_type": "code",
      "metadata": {
        "colab": {
          "base_uri": "https://localhost:8080/"
        },
        "id": "o6bIEaxBN00I",
        "outputId": "272f763c-0f8b-4965-f352-bbf7f6da8264"
      },
      "source": [
        "df = pd.read_csv(\"iris_smaller.csv\")\n",
        "df.shape"
      ],
      "execution_count": null,
      "outputs": [
        {
          "output_type": "execute_result",
          "data": {
            "text/plain": [
              "(40, 3)"
            ]
          },
          "metadata": {},
          "execution_count": 4
        }
      ]
    },
    {
      "cell_type": "markdown",
      "metadata": {
        "id": "gKPLK-J4Oo56"
      },
      "source": [
        "```\n",
        "df.sample(5)\n",
        "```"
      ]
    },
    {
      "cell_type": "code",
      "metadata": {
        "id": "U1HLRxZnN-HR"
      },
      "source": [],
      "execution_count": null,
      "outputs": []
    },
    {
      "cell_type": "markdown",
      "metadata": {
        "id": "pb6YZd9POo6C"
      },
      "source": [
        "```\n",
        "df.shape\n",
        "```"
      ]
    },
    {
      "cell_type": "code",
      "metadata": {
        "id": "z-QIbHilOo6D",
        "colab": {
          "base_uri": "https://localhost:8080/"
        },
        "outputId": "d7404e18-16ea-482f-e0ea-2a8181e2c9eb"
      },
      "source": [
        "df.shape"
      ],
      "execution_count": null,
      "outputs": [
        {
          "output_type": "execute_result",
          "data": {
            "text/plain": [
              "(40, 3)"
            ]
          },
          "metadata": {},
          "execution_count": 5
        }
      ]
    },
    {
      "cell_type": "code",
      "metadata": {
        "colab": {
          "base_uri": "https://localhost:8080/",
          "height": 203
        },
        "id": "X45dXWqqCKXe",
        "outputId": "f97103fd-f9dc-4bdd-92c6-87522d5bcc82"
      },
      "source": [
        "df.sample(5)"
      ],
      "execution_count": null,
      "outputs": [
        {
          "output_type": "execute_result",
          "data": {
            "text/html": [
              "<div>\n",
              "<style scoped>\n",
              "    .dataframe tbody tr th:only-of-type {\n",
              "        vertical-align: middle;\n",
              "    }\n",
              "\n",
              "    .dataframe tbody tr th {\n",
              "        vertical-align: top;\n",
              "    }\n",
              "\n",
              "    .dataframe thead th {\n",
              "        text-align: right;\n",
              "    }\n",
              "</style>\n",
              "<table border=\"1\" class=\"dataframe\">\n",
              "  <thead>\n",
              "    <tr style=\"text-align: right;\">\n",
              "      <th></th>\n",
              "      <th>sepal_length</th>\n",
              "      <th>sepal_width</th>\n",
              "      <th>species</th>\n",
              "    </tr>\n",
              "  </thead>\n",
              "  <tbody>\n",
              "    <tr>\n",
              "      <th>21</th>\n",
              "      <td>6.4</td>\n",
              "      <td>3.2</td>\n",
              "      <td>versicolor</td>\n",
              "    </tr>\n",
              "    <tr>\n",
              "      <th>32</th>\n",
              "      <td>6.0</td>\n",
              "      <td>2.2</td>\n",
              "      <td>versicolor</td>\n",
              "    </tr>\n",
              "    <tr>\n",
              "      <th>5</th>\n",
              "      <td>5.0</td>\n",
              "      <td>3.0</td>\n",
              "      <td>setosa</td>\n",
              "    </tr>\n",
              "    <tr>\n",
              "      <th>3</th>\n",
              "      <td>5.1</td>\n",
              "      <td>3.3</td>\n",
              "      <td>setosa</td>\n",
              "    </tr>\n",
              "    <tr>\n",
              "      <th>18</th>\n",
              "      <td>4.4</td>\n",
              "      <td>3.0</td>\n",
              "      <td>setosa</td>\n",
              "    </tr>\n",
              "  </tbody>\n",
              "</table>\n",
              "</div>"
            ],
            "text/plain": [
              "    sepal_length  sepal_width     species\n",
              "21           6.4          3.2  versicolor\n",
              "32           6.0          2.2  versicolor\n",
              "5            5.0          3.0      setosa\n",
              "3            5.1          3.3      setosa\n",
              "18           4.4          3.0      setosa"
            ]
          },
          "metadata": {},
          "execution_count": 6
        }
      ]
    },
    {
      "cell_type": "markdown",
      "metadata": {
        "id": "cisjNxM-Oo6J"
      },
      "source": [
        "```\n",
        "species = df.species.unique()\n",
        "```"
      ]
    },
    {
      "cell_type": "code",
      "metadata": {
        "id": "nV3fx_uQOo6L",
        "colab": {
          "base_uri": "https://localhost:8080/"
        },
        "outputId": "2d813f42-f110-4de6-8023-77ad2ce239f6"
      },
      "source": [
        "species = df.species.unique()\n",
        "species"
      ],
      "execution_count": null,
      "outputs": [
        {
          "output_type": "execute_result",
          "data": {
            "text/plain": [
              "array(['setosa', 'versicolor'], dtype=object)"
            ]
          },
          "metadata": {},
          "execution_count": 7
        }
      ]
    },
    {
      "cell_type": "markdown",
      "metadata": {
        "id": "NEu_vcWsOo6U"
      },
      "source": [
        "### Conver the target label to numeric values\n",
        "```\n",
        "label_maps = {'setosa':0, 'versicolor':1}\n",
        "label_maps\n",
        "```"
      ]
    },
    {
      "cell_type": "code",
      "metadata": {
        "id": "KQzgTJZ3Oo6V",
        "colab": {
          "base_uri": "https://localhost:8080/"
        },
        "outputId": "d0d62965-2920-40db-fd02-93b2b98a81d7"
      },
      "source": [
        "label_maps = {'setosa':0, 'versicolor':1}\n",
        "label_maps"
      ],
      "execution_count": null,
      "outputs": [
        {
          "output_type": "execute_result",
          "data": {
            "text/plain": [
              "{'setosa': 0, 'versicolor': 1}"
            ]
          },
          "metadata": {},
          "execution_count": 8
        }
      ]
    },
    {
      "cell_type": "markdown",
      "metadata": {
        "id": "nRIx5-ibOo6a"
      },
      "source": [
        "```\n",
        "df['Species'].replace(label_maps, inplace = True)\n",
        "```"
      ]
    },
    {
      "cell_type": "code",
      "metadata": {
        "id": "zIDOeAy4Oo6b"
      },
      "source": [
        "y_train = df.species.map(label_maps)"
      ],
      "execution_count": null,
      "outputs": []
    },
    {
      "cell_type": "code",
      "metadata": {
        "colab": {
          "base_uri": "https://localhost:8080/",
          "height": 204
        },
        "id": "VvN6xRlmOggl",
        "outputId": "9eb819f1-ddc1-4bda-e038-ec4efd24b02a"
      },
      "source": [
        "df.sample(5)"
      ],
      "execution_count": null,
      "outputs": [
        {
          "output_type": "execute_result",
          "data": {
            "text/html": [
              "<div>\n",
              "<style scoped>\n",
              "    .dataframe tbody tr th:only-of-type {\n",
              "        vertical-align: middle;\n",
              "    }\n",
              "\n",
              "    .dataframe tbody tr th {\n",
              "        vertical-align: top;\n",
              "    }\n",
              "\n",
              "    .dataframe thead th {\n",
              "        text-align: right;\n",
              "    }\n",
              "</style>\n",
              "<table border=\"1\" class=\"dataframe\">\n",
              "  <thead>\n",
              "    <tr style=\"text-align: right;\">\n",
              "      <th></th>\n",
              "      <th>sepal_length</th>\n",
              "      <th>sepal_width</th>\n",
              "      <th>species</th>\n",
              "    </tr>\n",
              "  </thead>\n",
              "  <tbody>\n",
              "    <tr>\n",
              "      <th>13</th>\n",
              "      <td>5.5</td>\n",
              "      <td>4.2</td>\n",
              "      <td>0</td>\n",
              "    </tr>\n",
              "    <tr>\n",
              "      <th>3</th>\n",
              "      <td>5.1</td>\n",
              "      <td>3.3</td>\n",
              "      <td>0</td>\n",
              "    </tr>\n",
              "    <tr>\n",
              "      <th>30</th>\n",
              "      <td>5.0</td>\n",
              "      <td>2.0</td>\n",
              "      <td>1</td>\n",
              "    </tr>\n",
              "    <tr>\n",
              "      <th>1</th>\n",
              "      <td>5.1</td>\n",
              "      <td>3.7</td>\n",
              "      <td>0</td>\n",
              "    </tr>\n",
              "    <tr>\n",
              "      <th>39</th>\n",
              "      <td>5.6</td>\n",
              "      <td>2.5</td>\n",
              "      <td>1</td>\n",
              "    </tr>\n",
              "  </tbody>\n",
              "</table>\n",
              "</div>"
            ],
            "text/plain": [
              "    sepal_length  sepal_width  species\n",
              "13           5.5          4.2        0\n",
              "3            5.1          3.3        0\n",
              "30           5.0          2.0        1\n",
              "1            5.1          3.7        0\n",
              "39           5.6          2.5        1"
            ]
          },
          "metadata": {},
          "execution_count": 24
        }
      ]
    },
    {
      "cell_type": "markdown",
      "metadata": {
        "id": "3JBpvatKOo6j"
      },
      "source": [
        "### Extract training data\n",
        "```\n",
        "X_train = df.iloc[:, 0:-1]\n",
        "```"
      ]
    },
    {
      "cell_type": "code",
      "metadata": {
        "colab": {
          "base_uri": "https://localhost:8080/",
          "height": 203
        },
        "id": "3X_BJ2UwCx9p",
        "outputId": "0f5579f0-49ec-4b1b-e3d8-815f07964d90"
      },
      "source": [
        "df.head()"
      ],
      "execution_count": null,
      "outputs": [
        {
          "output_type": "execute_result",
          "data": {
            "text/html": [
              "<div>\n",
              "<style scoped>\n",
              "    .dataframe tbody tr th:only-of-type {\n",
              "        vertical-align: middle;\n",
              "    }\n",
              "\n",
              "    .dataframe tbody tr th {\n",
              "        vertical-align: top;\n",
              "    }\n",
              "\n",
              "    .dataframe thead th {\n",
              "        text-align: right;\n",
              "    }\n",
              "</style>\n",
              "<table border=\"1\" class=\"dataframe\">\n",
              "  <thead>\n",
              "    <tr style=\"text-align: right;\">\n",
              "      <th></th>\n",
              "      <th>sepal_length</th>\n",
              "      <th>sepal_width</th>\n",
              "      <th>species</th>\n",
              "    </tr>\n",
              "  </thead>\n",
              "  <tbody>\n",
              "    <tr>\n",
              "      <th>0</th>\n",
              "      <td>5.4</td>\n",
              "      <td>3.4</td>\n",
              "      <td>setosa</td>\n",
              "    </tr>\n",
              "    <tr>\n",
              "      <th>1</th>\n",
              "      <td>5.1</td>\n",
              "      <td>3.7</td>\n",
              "      <td>setosa</td>\n",
              "    </tr>\n",
              "    <tr>\n",
              "      <th>2</th>\n",
              "      <td>4.6</td>\n",
              "      <td>3.6</td>\n",
              "      <td>setosa</td>\n",
              "    </tr>\n",
              "    <tr>\n",
              "      <th>3</th>\n",
              "      <td>5.1</td>\n",
              "      <td>3.3</td>\n",
              "      <td>setosa</td>\n",
              "    </tr>\n",
              "    <tr>\n",
              "      <th>4</th>\n",
              "      <td>4.8</td>\n",
              "      <td>3.4</td>\n",
              "      <td>setosa</td>\n",
              "    </tr>\n",
              "  </tbody>\n",
              "</table>\n",
              "</div>"
            ],
            "text/plain": [
              "   sepal_length  sepal_width species\n",
              "0           5.4          3.4  setosa\n",
              "1           5.1          3.7  setosa\n",
              "2           4.6          3.6  setosa\n",
              "3           5.1          3.3  setosa\n",
              "4           4.8          3.4  setosa"
            ]
          },
          "metadata": {},
          "execution_count": 12
        }
      ]
    },
    {
      "cell_type": "code",
      "metadata": {
        "id": "jZV7nMFDOo6k"
      },
      "source": [
        "X_train = df[['sepal_length', 'sepal_width']]"
      ],
      "execution_count": null,
      "outputs": []
    },
    {
      "cell_type": "markdown",
      "metadata": {
        "id": "z8oPjxjnOo6q"
      },
      "source": [
        "```\n",
        "X_train.head()\n",
        "```"
      ]
    },
    {
      "cell_type": "code",
      "metadata": {
        "id": "u43tTNA_Oo6w",
        "colab": {
          "base_uri": "https://localhost:8080/",
          "height": 203
        },
        "outputId": "b20b9f3a-bcdb-4fda-9060-c0dcd8b913cb"
      },
      "source": [
        "X_train.head()"
      ],
      "execution_count": null,
      "outputs": [
        {
          "output_type": "execute_result",
          "data": {
            "text/html": [
              "<div>\n",
              "<style scoped>\n",
              "    .dataframe tbody tr th:only-of-type {\n",
              "        vertical-align: middle;\n",
              "    }\n",
              "\n",
              "    .dataframe tbody tr th {\n",
              "        vertical-align: top;\n",
              "    }\n",
              "\n",
              "    .dataframe thead th {\n",
              "        text-align: right;\n",
              "    }\n",
              "</style>\n",
              "<table border=\"1\" class=\"dataframe\">\n",
              "  <thead>\n",
              "    <tr style=\"text-align: right;\">\n",
              "      <th></th>\n",
              "      <th>sepal_length</th>\n",
              "      <th>sepal_width</th>\n",
              "    </tr>\n",
              "  </thead>\n",
              "  <tbody>\n",
              "    <tr>\n",
              "      <th>0</th>\n",
              "      <td>5.4</td>\n",
              "      <td>3.4</td>\n",
              "    </tr>\n",
              "    <tr>\n",
              "      <th>1</th>\n",
              "      <td>5.1</td>\n",
              "      <td>3.7</td>\n",
              "    </tr>\n",
              "    <tr>\n",
              "      <th>2</th>\n",
              "      <td>4.6</td>\n",
              "      <td>3.6</td>\n",
              "    </tr>\n",
              "    <tr>\n",
              "      <th>3</th>\n",
              "      <td>5.1</td>\n",
              "      <td>3.3</td>\n",
              "    </tr>\n",
              "    <tr>\n",
              "      <th>4</th>\n",
              "      <td>4.8</td>\n",
              "      <td>3.4</td>\n",
              "    </tr>\n",
              "  </tbody>\n",
              "</table>\n",
              "</div>"
            ],
            "text/plain": [
              "   sepal_length  sepal_width\n",
              "0           5.4          3.4\n",
              "1           5.1          3.7\n",
              "2           4.6          3.6\n",
              "3           5.1          3.3\n",
              "4           4.8          3.4"
            ]
          },
          "metadata": {},
          "execution_count": 16
        }
      ]
    },
    {
      "cell_type": "code",
      "metadata": {
        "colab": {
          "base_uri": "https://localhost:8080/"
        },
        "id": "Xm_3wG-bD6xm",
        "outputId": "7a21e421-e2a9-4d84-9f84-4e816f629727"
      },
      "source": [
        "y_train.sample(5)"
      ],
      "execution_count": null,
      "outputs": [
        {
          "output_type": "execute_result",
          "data": {
            "text/plain": [
              "1     0\n",
              "35    1\n",
              "26    1\n",
              "31    1\n",
              "10    0\n",
              "Name: species, dtype: int64"
            ]
          },
          "metadata": {},
          "execution_count": 18
        }
      ]
    },
    {
      "cell_type": "markdown",
      "metadata": {
        "id": "eQ7IGI6WOo6z"
      },
      "source": [
        "### Explore the Data"
      ]
    },
    {
      "cell_type": "markdown",
      "metadata": {
        "id": "OHKT26xHOo6z"
      },
      "source": [
        "```\n",
        "y_train = df.species\n",
        "```"
      ]
    },
    {
      "cell_type": "code",
      "metadata": {
        "id": "lB9nGL23Oo60"
      },
      "source": [
        "y_train = df.species"
      ],
      "execution_count": null,
      "outputs": []
    },
    {
      "cell_type": "markdown",
      "metadata": {
        "id": "exKvzIT-Oo62"
      },
      "source": [
        "```\n",
        "plt.figure(figsize = (15, 9))\n",
        "pd.plotting.scatter_matrix(X_train, figsize = (15, 9), c = y_train, marker = 'o')\n",
        "plt.grid()\n",
        "```"
      ]
    },
    {
      "cell_type": "code",
      "metadata": {
        "id": "v-ogGRNkOo63",
        "colab": {
          "base_uri": "https://localhost:8080/",
          "height": 572
        },
        "outputId": "ba25128d-d6f4-4177-ee63-eca04053e2dc"
      },
      "source": [
        "plt.figure(figsize = (15, 9))\n",
        "pd.plotting.scatter_matrix(X_train, figsize = (15, 9), c = y_train, marker = 'o')\n",
        "plt.grid()"
      ],
      "execution_count": null,
      "outputs": [
        {
          "output_type": "display_data",
          "data": {
            "text/plain": [
              "<Figure size 1080x648 with 0 Axes>"
            ]
          },
          "metadata": {}
        },
        {
          "output_type": "display_data",
          "data": {
            "image/png": "[encoded data removed]",
            "text/plain": [
              "<Figure size 1080x648 with 4 Axes>"
            ]
          },
          "metadata": {
            "needs_background": "light"
          }
        }
      ]
    },
    {
      "cell_type": "markdown",
      "metadata": {
        "id": "4ohfoGeVOo65"
      },
      "source": [
        "### Using KNN for Modeling and Prediction"
      ]
    },
    {
      "cell_type": "markdown",
      "metadata": {
        "id": "lXxhR-HbOo66"
      },
      "source": [
        "```\n",
        "from sklearn.neighbors import KNeighborsClassifier\n",
        "knn = KNeighborsClassifier(n_neighbors = 5)\n",
        "knn.fit(X_train, y_train)\n",
        "knn.score(X_train, y_train)\n",
        "```"
      ]
    },
    {
      "cell_type": "code",
      "metadata": {
        "id": "TjGSnOR8Oo66"
      },
      "source": [
        "from sklearn.neighbors import KNeighborsClassifier"
      ],
      "execution_count": null,
      "outputs": []
    },
    {
      "cell_type": "code",
      "metadata": {
        "id": "GQPQ9M-9E4SH"
      },
      "source": [
        "knn = KNeighborsClassifier()"
      ],
      "execution_count": null,
      "outputs": []
    },
    {
      "cell_type": "code",
      "metadata": {
        "colab": {
          "base_uri": "https://localhost:8080/"
        },
        "id": "OL0D4ea5FPE2",
        "outputId": "02d54a45-5972-423a-da46-5c8ff8696c73"
      },
      "source": [
        "knn.fit(X_train, y_train)"
      ],
      "execution_count": null,
      "outputs": [
        {
          "output_type": "execute_result",
          "data": {
            "text/plain": [
              "KNeighborsClassifier(algorithm='auto', leaf_size=30, metric='minkowski',\n",
              "                     metric_params=None, n_jobs=None, n_neighbors=5, p=2,\n",
              "                     weights='uniform')"
            ]
          },
          "metadata": {},
          "execution_count": 22
        }
      ]
    },
    {
      "cell_type": "code",
      "metadata": {
        "colab": {
          "base_uri": "https://localhost:8080/"
        },
        "id": "-UqNXVuIFaTm",
        "outputId": "4fe2890f-1247-4a5b-fec0-1e93804e6c68"
      },
      "source": [
        "knn.predict(X_train)"
      ],
      "execution_count": null,
      "outputs": [
        {
          "output_type": "execute_result",
          "data": {
            "text/plain": [
              "array([0, 0, 0, 0, 0, 0, 0, 0, 0, 0, 0, 0, 0, 0, 0, 0, 0, 0, 0, 0, 1, 1,\n",
              "       1, 1, 1, 1, 1, 1, 1, 1, 1, 1, 1, 1, 1, 1, 1, 1, 1, 1])"
            ]
          },
          "metadata": {},
          "execution_count": 23
        }
      ]
    },
    {
      "cell_type": "code",
      "metadata": {
        "id": "_0l8Y-vVFoVO"
      },
      "source": [
        "from sklearn.metrics import accuracy_score"
      ],
      "execution_count": null,
      "outputs": []
    },
    {
      "cell_type": "code",
      "metadata": {
        "colab": {
          "base_uri": "https://localhost:8080/"
        },
        "id": "XfELkxcrFv-d",
        "outputId": "9e631fa8-b28b-4863-a2a6-5b1deb31bbd6"
      },
      "source": [
        "accuracy_score(y_train, knn.predict(X_train))"
      ],
      "execution_count": null,
      "outputs": [
        {
          "output_type": "execute_result",
          "data": {
            "text/plain": [
              "1.0"
            ]
          },
          "metadata": {},
          "execution_count": 25
        }
      ]
    },
    {
      "cell_type": "markdown",
      "metadata": {
        "id": "SOf_9itdOo7D"
      },
      "source": [
        "### Evaluate\n",
        "Given a set of labeled data and a predictive model, every data point lies in one of\n",
        "four categories:\n",
        "• True positive (tp): “This message is spam, and we correctly predicted spam.”\n",
        "• False positive (fp) (Type 1 Error): “This message is not spam, but we predicted spam.”\n",
        "• False negative (fn) (Type 2 Error): “This message is spam, but we predicted not\n",
        "spam.”\n",
        "• True negative (tn): “This message is not spam, and we correctly predicted not spam.”\n",
        "\n",
        "We often represent these as counts in a confusion matrix:\n",
        "\n",
        "|      |positive | negative |\n",
        "|------|------|------|\n",
        "|positive|tp |fp|\n",
        "|negative|fn | tn|\n",
        "\n",
        "$accuracy = \\frac{tp + tn}{tp + fp+tn+fn}$\n",
        "\n",
        "$precision = \\frac{tp}{tp+fp}$\n",
        "\n",
        "$recall = \\frac{tp}{tp+fn}$\n",
        "\n",
        "$F1\\_Score = \\frac{2}{\\frac{1}{recall} + \\frac{1}{precision}} = \\frac{2tp}{2tp + fp + fn}$"
      ]
    },
    {
      "cell_type": "code",
      "metadata": {
        "id": "quWVHUq01P_5"
      },
      "source": [
        "# import the metrics\n",
        "from sklearn.metrics import accuracy_score, precision_recall_fscore_support"
      ],
      "execution_count": null,
      "outputs": []
    },
    {
      "cell_type": "code",
      "metadata": {
        "colab": {
          "base_uri": "https://localhost:8080/"
        },
        "id": "WpbvT7XD1mHB",
        "outputId": "0b5336be-ff02-4668-f94f-8aeb1d5b940e"
      },
      "source": [
        "# evaluate the model accuracy on the training data\n",
        "accuracy_score(y_train, y_pred)"
      ],
      "execution_count": null,
      "outputs": [
        {
          "output_type": "execute_result",
          "data": {
            "text/plain": [
              "1.0"
            ]
          },
          "metadata": {},
          "execution_count": 35
        }
      ]
    },
    {
      "cell_type": "markdown",
      "metadata": {
        "id": "96FvT0BuOo7M"
      },
      "source": [
        "## Rescaling\n",
        "Many techniques are sensitive to the scale of your data. For example, imagine that you\n",
        "have a data set consisting of the heights and weights of hundreds of data scientists,\n",
        "and that you are trying to identify clusters of body sizes.\n",
        "\n",
        "Intuitively, we’d like clusters to represent points near each other, which means that we\n",
        "need some notion of distance between points. We already have a Euclidean distance\n",
        "function, so a natural approach might be to treat (height, weight) pairs as points in\n",
        "two-dimensional space. Consider the people listed following table:"
      ]
    },
    {
      "cell_type": "code",
      "metadata": {
        "id": "lRGZRKVGO0nO"
      },
      "source": [
        "import pandas as pd"
      ],
      "execution_count": null,
      "outputs": []
    },
    {
      "cell_type": "markdown",
      "metadata": {
        "id": "hih3HAK7Oo7M"
      },
      "source": [
        "```\n",
        "df = pd.DataFrame({\"Person\":['A', 'B', 'C'], \"height (cm)\":[160, 170.2, 177.8], \"weight (pounds)\":[150, 160, 171], \"height (inches)\":[63, 67, 70]})\n",
        "df\n",
        "```"
      ]
    },
    {
      "cell_type": "code",
      "metadata": {
        "id": "EbC9c-cIOo7N",
        "colab": {
          "base_uri": "https://localhost:8080/",
          "height": 138
        },
        "outputId": "2dd3e7ea-0a21-45e9-989a-1a645353f15d"
      },
      "source": [
        "df = pd.DataFrame({\"Person\":['A', 'B', 'C'], \"height (cm)\":[160, 170.2, 177.8], \"weight (pounds)\":[150, 160, 171], \"height (inches)\":[63, 67, 70]})\n",
        "df"
      ],
      "execution_count": null,
      "outputs": [
        {
          "output_type": "execute_result",
          "data": {
            "text/html": [
              "<div>\n",
              "<style scoped>\n",
              "    .dataframe tbody tr th:only-of-type {\n",
              "        vertical-align: middle;\n",
              "    }\n",
              "\n",
              "    .dataframe tbody tr th {\n",
              "        vertical-align: top;\n",
              "    }\n",
              "\n",
              "    .dataframe thead th {\n",
              "        text-align: right;\n",
              "    }\n",
              "</style>\n",
              "<table border=\"1\" class=\"dataframe\">\n",
              "  <thead>\n",
              "    <tr style=\"text-align: right;\">\n",
              "      <th></th>\n",
              "      <th>Person</th>\n",
              "      <th>height (cm)</th>\n",
              "      <th>weight (pounds)</th>\n",
              "      <th>height (inches)</th>\n",
              "    </tr>\n",
              "  </thead>\n",
              "  <tbody>\n",
              "    <tr>\n",
              "      <th>0</th>\n",
              "      <td>A</td>\n",
              "      <td>160.0</td>\n",
              "      <td>150</td>\n",
              "      <td>63</td>\n",
              "    </tr>\n",
              "    <tr>\n",
              "      <th>1</th>\n",
              "      <td>B</td>\n",
              "      <td>170.2</td>\n",
              "      <td>160</td>\n",
              "      <td>67</td>\n",
              "    </tr>\n",
              "    <tr>\n",
              "      <th>2</th>\n",
              "      <td>C</td>\n",
              "      <td>177.8</td>\n",
              "      <td>171</td>\n",
              "      <td>70</td>\n",
              "    </tr>\n",
              "  </tbody>\n",
              "</table>\n",
              "</div>"
            ],
            "text/plain": [
              "  Person  height (cm)  weight (pounds)  height (inches)\n",
              "0      A        160.0              150               63\n",
              "1      B        170.2              160               67\n",
              "2      C        177.8              171               70"
            ]
          },
          "metadata": {
            "tags": []
          },
          "execution_count": 2
        }
      ]
    },
    {
      "cell_type": "markdown",
      "metadata": {
        "id": "yNtsWaD1Oo7P"
      },
      "source": [
        "The distances between the pairs of persons in terms of height (inches) and weight (pounds) are:"
      ]
    },
    {
      "cell_type": "markdown",
      "metadata": {
        "id": "Q3637gTmOo7R"
      },
      "source": [
        "```\n",
        "from scipy.spatial import distance\n",
        "print(\"A to B: \" + str(distance.euclidean(df.iloc[0, 2:], df.iloc[1, 2:])))\n",
        "print(\"A to C: \" + str(distance.euclidean(df.iloc[0, 2:], df.iloc[2, 2:])))\n",
        "print(\"B to C: \" + str(distance.euclidean(df.iloc[1, 2:], df.iloc[2, 2:])))\n",
        "\n",
        "```"
      ]
    },
    {
      "cell_type": "code",
      "metadata": {
        "id": "Oa20Uj2gOo7R",
        "colab": {
          "base_uri": "https://localhost:8080/",
          "height": 72
        },
        "outputId": "dcb88dae-8dfb-4325-938d-deebe224a2a1"
      },
      "source": [
        "from scipy.spatial import distance\n",
        "print(\"A to B: \" + str(distance.euclidean(df.iloc[0, 2:], df.iloc[1, 2:])))\n",
        "print(\"A to C: \" + str(distance.euclidean(df.iloc[0, 2:], df.iloc[2, 2:])))\n",
        "print(\"B to C: \" + str(distance.euclidean(df.iloc[1, 2:], df.iloc[2, 2:])))"
      ],
      "execution_count": null,
      "outputs": [
        {
          "output_type": "stream",
          "text": [
            "A to B: 10.770329614269007\n",
            "A to C: 22.135943621178654\n",
            "B to C: 11.40175425099138\n"
          ],
          "name": "stdout"
        }
      ]
    },
    {
      "cell_type": "markdown",
      "metadata": {
        "id": "vMWFCqxeOo7U"
      },
      "source": [
        "The distnace between the pairs of persons in terms of height (cm) and weight (pounts) are:"
      ]
    },
    {
      "cell_type": "markdown",
      "metadata": {
        "id": "p-SuQsd-Oo7U"
      },
      "source": [
        "```\n",
        "print(\"A to B: \" + str(distance.euclidean(df.iloc[0, 1::2], df.iloc[1, 1::2])))\n",
        "print(\"A to C: \" + str(distance.euclidean(df.iloc[0, 1::2], df.iloc[2, 1::2])))\n",
        "print(\"B to C: \" + str(distance.euclidean(df.iloc[1, 1::2], df.iloc[2, 1::2])))\n",
        "```"
      ]
    },
    {
      "cell_type": "code",
      "metadata": {
        "id": "QYoWBB57Oo7V",
        "colab": {
          "base_uri": "https://localhost:8080/",
          "height": 72
        },
        "outputId": "1316226b-9ddc-47fa-8c3d-b0cf51dcf083"
      },
      "source": [
        "print(\"A to B: \" + str(distance.euclidean(df.iloc[0, 1:3], df.iloc[1, 1:3])))\n",
        "print(\"A to C: \" + str(distance.euclidean(df.iloc[0, 1:3], df.iloc[2, 1:3])))\n",
        "print(\"B to C: \" + str(distance.euclidean(df.iloc[1, 1:3], df.iloc[2, 1:3])))"
      ],
      "execution_count": null,
      "outputs": [
        {
          "output_type": "stream",
          "text": [
            "A to B: 14.284257068535268\n",
            "A to C: 27.52889391167034\n",
            "B to C: 13.370115930686627\n"
          ],
          "name": "stdout"
        }
      ]
    },
    {
      "cell_type": "markdown",
      "metadata": {
        "id": "fPXK7exgOo7W"
      },
      "source": [
        "The nearest point to B is different using different units. Obviously it’s problematic if changing units can change results like this. For this reason,\n",
        "when dimensions aren’t comparable with one another, we will sometimes rescale\n",
        "our data so that each dimension has mean 0 and standard deviation 1. This effectively\n",
        "gets rid of the units, converting each dimension to “standard deviations from the\n",
        "mean.\n",
        "\n",
        "The equation for scaling is $scaled = (data - mean) / standard\\_deviation$"
      ]
    },
    {
      "cell_type": "markdown",
      "metadata": {
        "id": "DGzVaZ7dOo7X"
      },
      "source": [
        "```\n",
        "df_data = df.set_index('Person')\n",
        "df_scaled = (df_data - df_data.mean(axis = 0)) / df_data.std(axis = 0)\n",
        "df_scaled\n",
        "```"
      ]
    },
    {
      "cell_type": "code",
      "metadata": {
        "id": "QP-63TLYOo7X",
        "colab": {
          "base_uri": "https://localhost:8080/",
          "height": 168
        },
        "outputId": "7e819c23-f9b4-4a7b-f1c5-fd21e7a70d24"
      },
      "source": [
        "df_data = df.set_index('Person')\n",
        "df_scaled = (df_data - df_data.mean(axis = 0)) / df_data.std(axis = 0)\n",
        "df_scaled"
      ],
      "execution_count": null,
      "outputs": [
        {
          "output_type": "execute_result",
          "data": {
            "text/html": [
              "<div>\n",
              "<style scoped>\n",
              "    .dataframe tbody tr th:only-of-type {\n",
              "        vertical-align: middle;\n",
              "    }\n",
              "\n",
              "    .dataframe tbody tr th {\n",
              "        vertical-align: top;\n",
              "    }\n",
              "\n",
              "    .dataframe thead th {\n",
              "        text-align: right;\n",
              "    }\n",
              "</style>\n",
              "<table border=\"1\" class=\"dataframe\">\n",
              "  <thead>\n",
              "    <tr style=\"text-align: right;\">\n",
              "      <th></th>\n",
              "      <th>height (cm)</th>\n",
              "      <th>weight (pounds)</th>\n",
              "      <th>height (inches)</th>\n",
              "    </tr>\n",
              "    <tr>\n",
              "      <th>Person</th>\n",
              "      <th></th>\n",
              "      <th></th>\n",
              "      <th></th>\n",
              "    </tr>\n",
              "  </thead>\n",
              "  <tbody>\n",
              "    <tr>\n",
              "      <th>A</th>\n",
              "      <td>-1.044980</td>\n",
              "      <td>-0.983755</td>\n",
              "      <td>-1.044074</td>\n",
              "    </tr>\n",
              "    <tr>\n",
              "      <th>B</th>\n",
              "      <td>0.097034</td>\n",
              "      <td>-0.031734</td>\n",
              "      <td>0.094916</td>\n",
              "    </tr>\n",
              "    <tr>\n",
              "      <th>C</th>\n",
              "      <td>0.947946</td>\n",
              "      <td>1.015489</td>\n",
              "      <td>0.949158</td>\n",
              "    </tr>\n",
              "  </tbody>\n",
              "</table>\n",
              "</div>"
            ],
            "text/plain": [
              "        height (cm)  weight (pounds)  height (inches)\n",
              "Person                                               \n",
              "A         -1.044980        -0.983755        -1.044074\n",
              "B          0.097034        -0.031734         0.094916\n",
              "C          0.947946         1.015489         0.949158"
            ]
          },
          "metadata": {
            "tags": []
          },
          "execution_count": 22
        }
      ]
    },
    {
      "cell_type": "markdown",
      "metadata": {
        "id": "fKFkrAADOo7Z"
      },
      "source": [
        "```\n",
        "df_scaled.mean(axis = 0)\n",
        "```"
      ]
    },
    {
      "cell_type": "code",
      "metadata": {
        "id": "soQbc3FNOo7Z"
      },
      "source": [],
      "execution_count": null,
      "outputs": []
    },
    {
      "cell_type": "markdown",
      "metadata": {
        "id": "yYSQo9qwOo7b"
      },
      "source": [
        "```\n",
        "df_scaled.std(axis = 0)\n",
        "```"
      ]
    },
    {
      "cell_type": "code",
      "metadata": {
        "id": "YNd7uyQ_Oo7b"
      },
      "source": [],
      "execution_count": null,
      "outputs": []
    },
    {
      "cell_type": "markdown",
      "metadata": {
        "id": "wAztjHuMOo7g"
      },
      "source": [
        "```\n",
        "# the distances using height in inches:\n",
        "from scipy.spatial import distance\n",
        "print(\"A to B: \" + str(distance.euclidean(df_scaled.iloc[0, 1:], df_scaled.iloc[1, 1:])))\n",
        "print(\"A to C: \" + str(distance.euclidean(df_scaled.iloc[0, 1:], df_scaled.iloc[2, 1:])))\n",
        "print(\"B to C: \" + str(distance.euclidean(df_scaled.iloc[1, 1:], df_scaled.iloc[2, 1:])))\n",
        "```"
      ]
    },
    {
      "cell_type": "code",
      "metadata": {
        "id": "TONhUMHIOo7g",
        "colab": {
          "base_uri": "https://localhost:8080/",
          "height": 72
        },
        "outputId": "453accfa-34a9-4e30-866f-2bc05c17f9ff"
      },
      "source": [
        "from scipy.spatial import distance\n",
        "print(\"A to B: \" + str(distance.euclidean(df_scaled.iloc[0, 1:], df_scaled.iloc[1, 1:])))\n",
        "print(\"A to C: \" + str(distance.euclidean(df_scaled.iloc[0, 1:], df_scaled.iloc[2, 1:])))\n",
        "print(\"B to C: \" + str(distance.euclidean(df_scaled.iloc[1, 1:], df_scaled.iloc[2, 1:])))"
      ],
      "execution_count": null,
      "outputs": [
        {
          "output_type": "stream",
          "text": [
            "A to B: 1.4844668093876099\n",
            "A to C: 2.823110310444266\n",
            "B to C: 1.3514460651057634\n"
          ],
          "name": "stdout"
        }
      ]
    },
    {
      "cell_type": "markdown",
      "metadata": {
        "id": "LNgfAk3wOo7i"
      },
      "source": [
        "```\n",
        "# the distances using height in cm:\n",
        "from scipy.spatial import distance\n",
        "print(\"A to B: \" + str(distance.euclidean(df_scaled.iloc[0, 0::2], df_scaled.iloc[1, 0::2])))\n",
        "print(\"A to C: \" + str(distance.euclidean(df_scaled.iloc[0, 0::2], df_scaled.iloc[2, 0::2])))\n",
        "print(\"B to C: \" + str(distance.euclidean(df_scaled.iloc[1, 0::2], df_scaled.iloc[2, 0::2])))\n",
        "```"
      ]
    },
    {
      "cell_type": "code",
      "metadata": {
        "id": "egqkzxO2Oo7j",
        "colab": {
          "base_uri": "https://localhost:8080/",
          "height": 72
        },
        "outputId": "2245ab84-7a90-4457-dae0-545405c3e685"
      },
      "source": [
        "from scipy.spatial import distance\n",
        "print(\"A to B: \" + str(distance.euclidean(df_scaled.iloc[0, 0::2], df_scaled.iloc[1, 0::2])))\n",
        "print(\"A to C: \" + str(distance.euclidean(df_scaled.iloc[0, 0::2], df_scaled.iloc[2, 0::2])))\n",
        "print(\"B to C: \" + str(distance.euclidean(df_scaled.iloc[1, 0::2], df_scaled.iloc[2, 0::2])))"
      ],
      "execution_count": null,
      "outputs": [
        {
          "output_type": "stream",
          "text": [
            "A to B: 1.6129142931621308\n",
            "A to C: 2.818639081896178\n",
            "B to C: 1.205728497183663\n"
          ],
          "name": "stdout"
        }
      ]
    },
    {
      "cell_type": "markdown",
      "metadata": {
        "id": "6N6ngGAGOo7l"
      },
      "source": [
        "### Using Scikit Learn to Scale"
      ]
    },
    {
      "cell_type": "markdown",
      "metadata": {
        "id": "BTpDExFkOo7l"
      },
      "source": [
        "```\n",
        "from sklearn.preprocessing import StandardScaler\n",
        "```"
      ]
    },
    {
      "cell_type": "code",
      "metadata": {
        "id": "ux12HKr2Oo7m"
      },
      "source": [],
      "execution_count": null,
      "outputs": []
    },
    {
      "cell_type": "markdown",
      "metadata": {
        "id": "k9z2lwNzOo7o"
      },
      "source": [
        "```\n",
        "scaler = StandardScaler()\n",
        "scaler.fit(df_data)\n",
        "```"
      ]
    },
    {
      "cell_type": "code",
      "metadata": {
        "id": "Rp5_wJdEOo7p"
      },
      "source": [],
      "execution_count": null,
      "outputs": []
    },
    {
      "cell_type": "markdown",
      "metadata": {
        "id": "WbiF-SvLOo7r"
      },
      "source": [
        "```\n",
        "scaled = scaler.transform(df_data)\n",
        "scaled\n",
        "```"
      ]
    },
    {
      "cell_type": "code",
      "metadata": {
        "id": "z2Uy5JtCOo7r"
      },
      "source": [],
      "execution_count": null,
      "outputs": []
    },
    {
      "cell_type": "markdown",
      "metadata": {
        "id": "el6f74cYOo7x"
      },
      "source": [
        "```\n",
        "scaled.mean(axis = 0)\n",
        "```"
      ]
    },
    {
      "cell_type": "code",
      "metadata": {
        "id": "OvYz65hSOo7x"
      },
      "source": [],
      "execution_count": null,
      "outputs": []
    },
    {
      "cell_type": "markdown",
      "metadata": {
        "id": "TQGANRRKOo70"
      },
      "source": [
        "```\n",
        "scaled.std(axis = 0)\n",
        "```"
      ]
    },
    {
      "cell_type": "code",
      "metadata": {
        "id": "nDizoMekOo70"
      },
      "source": [],
      "execution_count": null,
      "outputs": []
    },
    {
      "cell_type": "markdown",
      "metadata": {
        "id": "vuUtNCYGOo72"
      },
      "source": [
        "```\n",
        "df_data.mean(axis = 0)\n",
        "```"
      ]
    },
    {
      "cell_type": "code",
      "metadata": {
        "id": "ThCGygkJOo73"
      },
      "source": [],
      "execution_count": null,
      "outputs": []
    },
    {
      "cell_type": "markdown",
      "metadata": {
        "id": "LuASEVU1Oo75"
      },
      "source": [
        "```\n",
        "scaler.mean_\n",
        "```"
      ]
    },
    {
      "cell_type": "code",
      "metadata": {
        "id": "22gt3jytOo76"
      },
      "source": [],
      "execution_count": null,
      "outputs": []
    },
    {
      "cell_type": "markdown",
      "metadata": {
        "id": "iRMwmf6-Oo79"
      },
      "source": [
        "```\n",
        "df_data.var(axis = 0)\n",
        "```"
      ]
    },
    {
      "cell_type": "code",
      "metadata": {
        "id": "aDqG_A_NOo79"
      },
      "source": [],
      "execution_count": null,
      "outputs": []
    },
    {
      "cell_type": "markdown",
      "metadata": {
        "id": "L47rmDiIOo8B"
      },
      "source": [
        "```\n",
        "scaler.var_\n",
        "```"
      ]
    },
    {
      "cell_type": "code",
      "metadata": {
        "id": "okpnDYD9Oo8C"
      },
      "source": [],
      "execution_count": null,
      "outputs": []
    },
    {
      "cell_type": "markdown",
      "metadata": {
        "id": "OFjTtxTqZWFc"
      },
      "source": [
        "## The Curse of Dimensionality\n",
        "k-nearest neighbors runs into trouble in higher dimensions thanks to the “curse of\n",
        "dimensionality,” which boils down to the fact that high-dimensional spaces are vast.\n",
        "Points in high-dimensional spaces tend not to be close to one another at all. One way\n",
        "to see this is by randomly generating pairs of points in the d-dimensional “unit cube”\n",
        "in a variety of dimensions, and calculating the distances between them."
      ]
    },
    {
      "cell_type": "markdown",
      "metadata": {
        "id": "REbVw20zZWFd"
      },
      "source": [
        "Let us define a function to compute a list (len = num_pairs) of distances between two points with dimensions $dim$:"
      ]
    },
    {
      "cell_type": "markdown",
      "metadata": {
        "id": "5mdlcV5aZWFd"
      },
      "source": [
        "```\n",
        "from scipy.spatial import distance\n",
        "import numpy as np\n",
        "import random\n",
        "\n",
        "def random_distances(dim, num_pairs):\n",
        "    return [distance.euclidean(np.random.rand(1, dim), np.random.rand(1, dim))\n",
        "            for _ in range(num_pairs)]\n",
        "```"
      ]
    },
    {
      "cell_type": "code",
      "metadata": {
        "id": "23pKk0fqZWFd"
      },
      "source": [
        "from scipy.spatial import distance\n",
        "import numpy as np\n",
        "import random\n",
        "\n",
        "def random_distances(dim, num_pairs):\n",
        "    dist_list = []\n",
        "    for _ in range(num_pairs):\n",
        "        first_point = np.random.rand(1, dim)\n",
        "        second_point = np.random.rand(1, dim)\n",
        "        dist = distance.euclidean(first_point, second_point)\n",
        "        dist_list.append(dist)\n",
        "\n",
        "    return dist_list"
      ],
      "execution_count": null,
      "outputs": []
    },
    {
      "cell_type": "markdown",
      "metadata": {
        "id": "4-6-vhK3ZWFd"
      },
      "source": [
        "For a range of dimensions between 1 and 101 with stride 5, compute 10000 distances:"
      ]
    },
    {
      "cell_type": "markdown",
      "metadata": {
        "id": "6t1w40uVZWFe"
      },
      "source": [
        "```\n",
        "dimensions = range(1, 101, 5)\n",
        "\n",
        "avg_distances = []\n",
        "min_distances = []\n",
        "\n",
        "random.seed(0)\n",
        "for dim in dimensions:\n",
        "     distances = random_distances(dim, 10000)  # 10,000 random pairs\n",
        "     avg_distances.append(np.mean(distances))     # track the average\n",
        "     min_distances.append(min(distances))      # track the minimum\n",
        "     #print(dim, min(distances), mean(distances), min(distances) / mean(distances))\n",
        "```"
      ]
    },
    {
      "cell_type": "code",
      "metadata": {
        "id": "PEsEpSLLZWFe"
      },
      "source": [
        "from scipy.spatial import distance\n",
        "import numpy as np\n",
        "import random\n",
        "\n",
        "def random_distances(dim, num_pairs):\n",
        "    return [distance.euclidean(np.random.rand(1, dim), np.random.rand(1, dim))\n",
        "            for _ in range(num_pairs)]"
      ],
      "execution_count": null,
      "outputs": []
    },
    {
      "cell_type": "code",
      "metadata": {
        "id": "_EIGXjP4ZWFe"
      },
      "source": [
        "dimensions = range(1, 101, 5)\n",
        "avg_distances = []\n",
        "min_distances = []\n",
        "\n",
        "for dim in dimensions:\n",
        "     distances = random_distances(dim, 10000)  # 10,000 random pairs\n",
        "     avg_distances.append(np.mean(distances))     # track the average\n",
        "     min_distances.append(min(distances))      # track the minimum"
      ],
      "execution_count": null,
      "outputs": []
    },
    {
      "cell_type": "markdown",
      "metadata": {
        "id": "BpYnGa_mZWFf"
      },
      "source": [
        "Plot the ratio between mininum distances and averge distances as the dimension increases:"
      ]
    },
    {
      "cell_type": "markdown",
      "metadata": {
        "id": "tdHGS7N8ZWFf"
      },
      "source": [
        "```\n",
        "plt.plot(list(dimensions), list(np.array(min_distances) / np.array(avg_distances)))\n",
        "```"
      ]
    },
    {
      "cell_type": "code",
      "metadata": {
        "id": "-CyhJlSYZWFf",
        "outputId": "402d6ce1-8b04-4447-f21d-3e34cb028bd1"
      },
      "source": [
        "plt.plot(list(dimensions), list(np.array(min_distances) / np.array(avg_distances)))"
      ],
      "execution_count": null,
      "outputs": [
        {
          "output_type": "execute_result",
          "data": {
            "text/plain": [
              "[<matplotlib.lines.Line2D at 0x2994ff5f8c8>]"
            ]
          },
          "metadata": {
            "tags": []
          },
          "execution_count": 64
        },
        {
          "output_type": "display_data",
          "data": {
            "image/png": "[encoded data removed]",
            "text/plain": [
              "<Figure size 432x288 with 1 Axes>"
            ]
          },
          "metadata": {
            "tags": [],
            "needs_background": "light"
          }
        }
      ]
    },
    {
      "cell_type": "markdown",
      "metadata": {
        "id": "e5ybY69dZWFg"
      },
      "source": [
        "In low-dimensional data sets, the closest points tend to be much closer than average.\n",
        "But two points are close only if they’re close in every dimension, and every extra\n",
        "dimension—even if just noise—is another opportunity for each point to be further\n",
        "away from every other point. When you have a lot of dimensions, it’s likely that the\n",
        "closest points aren’t much closer than average, which means that two points being\n",
        "close doesn’t mean very much (unless there’s a lot of structure in your data that makes\n",
        "it behave as if it were much lower-dimensional).\n",
        "\n",
        "A different way of thinking about the problem involves the sparsity of higher dimensional spaces.\n",
        "\n",
        "If you pick 50 random numbers between 0 and 1, you’ll probably get a pretty good\n",
        "sample of the unit interval:\n",
        "\n",
        "![](https://i.imgur.com/c1tJvpd.png)\n",
        "\n",
        "If you pick 50 random points in the unit square, you’ll get less coverage:\n",
        "\n",
        "![](https://i.imgur.com/uMPJTHx.png)\n",
        "\n",
        "And in three dimensions less still:\n",
        "\n",
        "![](https://i.imgur.com/jgjT5al.png)\n",
        "\n",
        "So if you’re trying to use nearest neighbors in higher dimensions, it’s probably a good\n",
        "idea to do some kind of dimensionality reduction first."
      ]
    },
    {
      "cell_type": "code",
      "metadata": {
        "id": "QlRMPta7ZWFh"
      },
      "source": [
        "import pandas as pd\n",
        "import numpy as np\n",
        "import matplotlib.pyplot as plt\n",
        "%matplotlib inline"
      ],
      "execution_count": null,
      "outputs": []
    },
    {
      "cell_type": "markdown",
      "metadata": {
        "id": "gYzdRLf9ZWFh"
      },
      "source": [
        "```\n",
        "y = []\n",
        "for n in range(1000):\n",
        "    y.append(0.99**n)\n",
        "```"
      ]
    },
    {
      "cell_type": "code",
      "metadata": {
        "id": "ATFoGQ1mZWFh"
      },
      "source": [
        "y = []\n",
        "for n in range(100):\n",
        "    y.append(0.90**n)"
      ],
      "execution_count": null,
      "outputs": []
    },
    {
      "cell_type": "markdown",
      "metadata": {
        "id": "Bn_VOHGnZWFh"
      },
      "source": [
        "```\n",
        "plt.plot(np.arange(1000), y)\n",
        "```"
      ]
    },
    {
      "cell_type": "code",
      "metadata": {
        "id": "F3hgzZqkZWFi",
        "outputId": "dd03dc0b-6cba-4661-a09e-41b32b29a03f"
      },
      "source": [
        "plt.plot(np.arange(100), y)"
      ],
      "execution_count": null,
      "outputs": [
        {
          "output_type": "execute_result",
          "data": {
            "text/plain": [
              "[<matplotlib.lines.Line2D at 0x2991ef3a948>]"
            ]
          },
          "metadata": {
            "tags": []
          },
          "execution_count": 67
        },
        {
          "output_type": "display_data",
          "data": {
            "image/png": "[encoded data removed]",
            "text/plain": [
              "<Figure size 432x288 with 1 Axes>"
            ]
          },
          "metadata": {
            "tags": [],
            "needs_background": "light"
          }
        }
      ]
    }
  ]
}